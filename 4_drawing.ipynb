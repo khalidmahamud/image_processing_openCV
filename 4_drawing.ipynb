{
 "cells": [
  {
   "cell_type": "code",
   "execution_count": 17,
   "metadata": {},
   "outputs": [],
   "source": [
    "import numpy as np\n",
    "import cv2"
   ]
  },
  {
   "cell_type": "code",
   "execution_count": 18,
   "metadata": {},
   "outputs": [],
   "source": [
    "def display(winname, image):\n",
    "    cv2.imshow(winname, image)\n",
    "    cv2.waitKey(0)\n",
    "    cv2.destroyAllWindows()"
   ]
  },
  {
   "cell_type": "code",
   "execution_count": 19,
   "metadata": {},
   "outputs": [],
   "source": [
    "# creating the canvas\n",
    "\n",
    "canvas = np.zeros((300, 300, 3), dtype=\"uint8\")\n",
    "display('canvas', canvas)"
   ]
  },
  {
   "cell_type": "code",
   "execution_count": 20,
   "metadata": {},
   "outputs": [],
   "source": [
    "green = (0, 255, 0)\n",
    "red = (0, 0, 255)\n",
    "blue = (255, 0, 0)\n",
    "white = (255, 255, 255)"
   ]
  },
  {
   "cell_type": "code",
   "execution_count": 21,
   "metadata": {},
   "outputs": [],
   "source": [
    "# draws line across two points (column_no, row_no)\n",
    "\n",
    "cv2.line(canvas, (0, 0), (300, 300), green, 3)\n",
    "cv2.line(canvas, (300, 0), (0, 300), red, 3)\n",
    "display('canvas', canvas)"
   ]
  },
  {
   "cell_type": "code",
   "execution_count": 22,
   "metadata": {},
   "outputs": [],
   "source": [
    "# draws a rectangle given primary diagonal points\n",
    "\n",
    "cv2.rectangle(canvas, (100, 100), (200, 200), blue, 3)\n",
    "display('canvas', canvas)"
   ]
  },
  {
   "cell_type": "code",
   "execution_count": 23,
   "metadata": {},
   "outputs": [],
   "source": [
    "# rectangle filled\n",
    "\n",
    "cv2.rectangle(canvas, (130, 130), (170, 170), blue, -1)\n",
    "display('canvas', canvas)"
   ]
  },
  {
   "cell_type": "code",
   "execution_count": 24,
   "metadata": {},
   "outputs": [],
   "source": [
    "centerX, centerY = (canvas.shape[1] // 2, canvas.shape[0] // 2)\n",
    "\n",
    "for r in range(0, 180, 30):\n",
    "    cv2.circle(canvas, (centerX, centerY), r, white, 3)\n",
    "display('canvas', canvas)"
   ]
  },
  {
   "cell_type": "code",
   "execution_count": null,
   "metadata": {},
   "outputs": [],
   "source": []
  }
 ],
 "metadata": {
  "kernelspec": {
   "display_name": "Python 3",
   "language": "python",
   "name": "python3"
  },
  "language_info": {
   "codemirror_mode": {
    "name": "ipython",
    "version": 3
   },
   "file_extension": ".py",
   "mimetype": "text/x-python",
   "name": "python",
   "nbconvert_exporter": "python",
   "pygments_lexer": "ipython3",
   "version": "3.10.12"
  }
 },
 "nbformat": 4,
 "nbformat_minor": 2
}
